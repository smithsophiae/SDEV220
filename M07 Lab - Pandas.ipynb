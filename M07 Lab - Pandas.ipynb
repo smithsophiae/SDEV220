{
 "cells": [
  {
   "cell_type": "markdown",
   "id": "a68816da-15c6-4e35-8ea2-34fc05f13694",
   "metadata": {},
   "source": [
    "M07 Lab - Case Study: Panda and Data Science in Python\n",
    "Sophia Smith\n",
    "5/3/2024"
   ]
  },
  {
   "cell_type": "code",
   "execution_count": null,
   "id": "a4c2dbc6-76db-4a40-9272-2eedea2459f4",
   "metadata": {},
   "outputs": [],
   "source": [
    "import pandas as pd"
   ]
  },
  {
   "cell_type": "code",
   "execution_count": null,
   "id": "7c158122-5ce4-4690-9fad-b63cde24b7f8",
   "metadata": {},
   "outputs": [],
   "source": [
    "pd. "
   ]
  },
  {
   "cell_type": "code",
   "execution_count": null,
   "id": "119126e5-c609-4b36-ae77-75b4912a8d0a",
   "metadata": {},
   "outputs": [],
   "source": [
    "#1.1 \n",
    "df = pd.read_csv('telco_churn.csv')"
   ]
  },
  {
   "cell_type": "code",
   "execution_count": null,
   "id": "94b12aad-bcfb-45e0-a325-bc68f1941e11",
   "metadata": {},
   "outputs": [],
   "source": [
    "#1.2\n",
    "tempdict = {'col1':[1,2,3], 'col2':[4,5,6], 'col3':[7,8,9]}\n",
    "\n",
    "dictdf = pd.DataFrame.from_dict(tempdict)"
   ]
  },
  {
   "cell_type": "code",
   "execution_count": null,
   "id": "6bf6cb35-8648-4474-aa02-72ec7bce74d4",
   "metadata": {},
   "outputs": [],
   "source": [
    "#2.1\n",
    "df.head(10)"
   ]
  },
  {
   "cell_type": "code",
   "execution_count": null,
   "id": "ca190424-99a2-40b8-978f-5a393733667c",
   "metadata": {},
   "outputs": [],
   "source": [
    "#2.1\n",
    "dictdf.head()"
   ]
  },
  {
   "cell_type": "code",
   "execution_count": null,
   "id": "0c139a51-d5b0-455f-b2ab-ecc2ae0e13e4",
   "metadata": {},
   "outputs": [],
   "source": [
    "#2.1\n",
    "df.tail(15)"
   ]
  },
  {
   "cell_type": "code",
   "execution_count": null,
   "id": "6b21becc-2f6a-4661-82b6-b6cdbff845c3",
   "metadata": {},
   "outputs": [],
   "source": [
    "#2.2\n",
    "df.columns"
   ]
  },
  {
   "cell_type": "code",
   "execution_count": null,
   "id": "13c318cd-92d8-432f-ac31-9b67b0206a33",
   "metadata": {},
   "outputs": [],
   "source": [
    "#2.2\n",
    "df.dtypes"
   ]
  },
  {
   "cell_type": "code",
   "execution_count": null,
   "id": "201f5a7f-a90c-4e0b-8726-f47f382021fa",
   "metadata": {},
   "outputs": [],
   "source": [
    "#2.3\n",
    "df.describe()"
   ]
  },
  {
   "cell_type": "code",
   "execution_count": null,
   "id": "fc2e9380-bed0-456a-8664-9bc02cb0dcaa",
   "metadata": {},
   "outputs": [],
   "source": [
    "#2.3\n",
    "df.describe(include='object')"
   ]
  },
  {
   "cell_type": "code",
   "execution_count": null,
   "id": "31259a91-ea61-446d-a1b1-04bcca997d5f",
   "metadata": {},
   "outputs": [],
   "source": [
    "#2.4\n",
    "df.State"
   ]
  },
  {
   "cell_type": "code",
   "execution_count": null,
   "id": "8d5efcb2-64be-4944-834d-fda0e383ddb9",
   "metadata": {},
   "outputs": [],
   "source": [
    "#2.4\n",
    "df['International plan']"
   ]
  },
  {
   "cell_type": "code",
   "execution_count": null,
   "id": "ae45f337-053a-42f3-b104-7953ba1c853f",
   "metadata": {},
   "outputs": [],
   "source": [
    "#2.4\n",
    "df[['State', 'International plan']]"
   ]
  },
  {
   "cell_type": "code",
   "execution_count": null,
   "id": "a38bdbda-6eb8-4fa4-b299-588d9fa1a7bc",
   "metadata": {},
   "outputs": [],
   "source": [
    "#2.4\n",
    "df.Churn.unique()"
   ]
  },
  {
   "cell_type": "code",
   "execution_count": null,
   "id": "a224f93d-6091-41c5-a7df-23600cf0627d",
   "metadata": {},
   "outputs": [],
   "source": [
    "#2.5\n",
    "df.head()"
   ]
  },
  {
   "cell_type": "code",
   "execution_count": null,
   "id": "2e620e58-e1c5-4ab2-9810-3481e2e348b0",
   "metadata": {},
   "outputs": [],
   "source": [
    "#2.5\n",
    "df[df['International plan']=='No']"
   ]
  },
  {
   "cell_type": "code",
   "execution_count": null,
   "id": "26dafad4-3183-484f-a333-8ce1937bfaba",
   "metadata": {},
   "outputs": [],
   "source": [
    "#2.5 \n",
    "df[(df['International plan']=='No') & (df['Churn']==True)]"
   ]
  },
  {
   "cell_type": "code",
   "execution_count": null,
   "id": "36d409a1-ba8b-49fb-8278-30c4a7096bb0",
   "metadata": {},
   "outputs": [],
   "source": [
    "#2.6\n",
    "df.iloc[14]"
   ]
  },
  {
   "cell_type": "code",
   "execution_count": null,
   "id": "438241d6-0faa-4074-94f2-dfba5ca1bd54",
   "metadata": {},
   "outputs": [],
   "source": [
    "#2.6\n",
    "df.iloc[14,-1]"
   ]
  },
  {
   "cell_type": "code",
   "execution_count": null,
   "id": "0f3de8d0-2983-49c7-b1db-92202b003419",
   "metadata": {},
   "outputs": [],
   "source": [
    "#2.6\n",
    "df.iloc[22:33]"
   ]
  },
  {
   "cell_type": "code",
   "execution_count": null,
   "id": "f4c6c0e6-9ddb-4c4a-aa26-104d23d912c8",
   "metadata": {},
   "outputs": [],
   "source": [
    "#2.7\n",
    "state = df.copy()\n",
    "state.set_index('State', inplace=True)"
   ]
  },
  {
   "cell_type": "code",
   "execution_count": null,
   "id": "84d8db5a-d38b-4d4a-9ab9-c7874c3195c7",
   "metadata": {},
   "outputs": [],
   "source": [
    "#2.7\n",
    "state.head()"
   ]
  },
  {
   "cell_type": "code",
   "execution_count": null,
   "id": "c6da9727-08db-461a-86f7-7466ae94b289",
   "metadata": {},
   "outputs": [],
   "source": [
    "#2.7\n",
    "state.loc['OH']"
   ]
  },
  {
   "cell_type": "code",
   "execution_count": null,
   "id": "0e9f5974-bdeb-4e4e-8fdd-866cea370aa0",
   "metadata": {},
   "outputs": [],
   "source": [
    "#3.1\n",
    "df.isnull().sum()"
   ]
  },
  {
   "cell_type": "code",
   "execution_count": null,
   "id": "7fff1fdd-45f5-440e-bd21-1016ba53d53e",
   "metadata": {},
   "outputs": [],
   "source": [
    "#3.1\n",
    "df.dropna(inplace=True)"
   ]
  },
  {
   "cell_type": "code",
   "execution_count": null,
   "id": "839d283d-bb7c-4eaa-bf08-3621a5281f2b",
   "metadata": {},
   "outputs": [],
   "source": [
    "#3.1\n",
    "df.isnull().sum()"
   ]
  },
  {
   "cell_type": "code",
   "execution_count": null,
   "id": "facb30ff-b0dc-4e9c-98b7-fb56856d4b2d",
   "metadata": {},
   "outputs": [],
   "source": [
    "#3.2\n",
    "df.drop('Area code', axis=1)"
   ]
  },
  {
   "cell_type": "code",
   "execution_count": null,
   "id": "9d1cab01-e632-44f4-b0e7-d25d395f587f",
   "metadata": {},
   "outputs": [],
   "source": [
    "#3.3\n",
    "df['New Column'] = df['Total night minutes'] + df['Total intl minutes']"
   ]
  },
  {
   "cell_type": "code",
   "execution_count": null,
   "id": "83318e7b-5d13-47ee-88ed-8cb5b6e84b4e",
   "metadata": {},
   "outputs": [],
   "source": [
    "#3.3\n",
    "df.head()"
   ]
  },
  {
   "cell_type": "code",
   "execution_count": null,
   "id": "d4bc901d-906c-4110-852f-43dda9a42d40",
   "metadata": {},
   "outputs": [],
   "source": [
    "#3.4\n",
    "df['New Column'] = 100"
   ]
  },
  {
   "cell_type": "code",
   "execution_count": null,
   "id": "0dbe784d-08c8-4ca3-9e1e-cdbb5239f77f",
   "metadata": {},
   "outputs": [],
   "source": [
    "#3.4\n",
    "df.head()"
   ]
  },
  {
   "cell_type": "code",
   "execution_count": null,
   "id": "94343a95-882e-4805-9271-8aaa42438bfb",
   "metadata": {},
   "outputs": [],
   "source": [
    "#3.5\n",
    "df.iloc[0,-1] = 10"
   ]
  },
  {
   "cell_type": "code",
   "execution_count": null,
   "id": "6ab60ba7-0076-4ecf-97cb-af02bd0a5a39",
   "metadata": {},
   "outputs": [],
   "source": [
    "#3.5\n",
    "df.head()"
   ]
  },
  {
   "cell_type": "code",
   "execution_count": null,
   "id": "cfe93134-9d0b-4916-acbf-d37ea5b24185",
   "metadata": {},
   "outputs": [],
   "source": [
    "#3.6\n",
    "df['Churn Binary'] = df['Churn'].apply(lambda x: 1 if x==True else 0)"
   ]
  },
  {
   "cell_type": "code",
   "execution_count": null,
   "id": "e9e4ddb4-31a1-43d9-9de3-27e1d2501630",
   "metadata": {},
   "outputs": [],
   "source": [
    "#3.6\n",
    "df[df['Churn']==True].head()"
   ]
  },
  {
   "cell_type": "code",
   "execution_count": null,
   "id": "135651cb-4b21-4656-b504-dc368cd8e608",
   "metadata": {},
   "outputs": [],
   "source": [
    "#4.1\n",
    "df.to_csv('output.csv')"
   ]
  },
  {
   "cell_type": "code",
   "execution_count": null,
   "id": "af847c32-a048-43b7-9215-0af30901d88a",
   "metadata": {},
   "outputs": [],
   "source": [
    "#4.2\n",
    "df.to_json()"
   ]
  },
  {
   "cell_type": "code",
   "execution_count": null,
   "id": "6aed1f8e-59c5-47d8-a82a-5a9e824d106b",
   "metadata": {},
   "outputs": [],
   "source": [
    "#4.3\n",
    "df.to_html()"
   ]
  },
  {
   "cell_type": "code",
   "execution_count": null,
   "id": "9d36f10e-b730-46ae-abfa-b5150f8d5f76",
   "metadata": {},
   "outputs": [],
   "source": [
    "#4.4\n",
    "del df"
   ]
  }
 ],
 "metadata": {
  "kernelspec": {
   "display_name": "Python 3 (ipykernel)",
   "language": "python",
   "name": "python3"
  },
  "language_info": {
   "codemirror_mode": {
    "name": "ipython",
    "version": 3
   },
   "file_extension": ".py",
   "mimetype": "text/x-python",
   "name": "python",
   "nbconvert_exporter": "python",
   "pygments_lexer": "ipython3",
   "version": "3.11.7"
  }
 },
 "nbformat": 4,
 "nbformat_minor": 5
}
