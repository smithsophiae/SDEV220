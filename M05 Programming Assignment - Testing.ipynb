{
 "cells": [
  {
   "cell_type": "markdown",
   "id": "c5e3a265-d8cf-4171-955a-e5bfaadc3bca",
   "metadata": {},
   "source": [
    "M05 Programming Assignment - Testing\n",
    "Sophia Smith\n",
    "4/21/24"
   ]
  },
  {
   "cell_type": "code",
   "execution_count": 7,
   "id": "b689b68a-3897-472f-bff7-feaa1100bd74",
   "metadata": {},
   "outputs": [],
   "source": [
    "#Testing Your Code\n",
    "'''\n",
    "#Example Test\n",
    "def test_sum():\n",
    "    assert sum([1, 2, 3]) == 6, \"Should be 6\"\n",
    "\n",
    "if __name__ == \"__main__\":\n",
    "    test_sum()\n",
    "    print(\"Everything passed\")\n",
    "\n",
    "#unittest\n",
    "import unittest\n",
    "\n",
    "\n",
    "class TestSum(unittest.TestCase):\n",
    "\n",
    "    def test_sum(self):\n",
    "        self.assertEqual(sum([1, 2, 3]), 6, \"Should be 6\")\n",
    "\n",
    "    def test_sum_tuple(self):\n",
    "        self.assertEqual(sum((1, 2, 2)), 6, \"Should be 6\")\n",
    "\n",
    "if __name__ == '__main__':\n",
    "    unittest.main()\n",
    "'''\n",
    "\n",
    "#pytest\n",
    "def test_sum():\n",
    "    assert sum([1, 2, 3]) == 6, \"Should be 6\"\n",
    "\n",
    "def test_sum_tuple():\n",
    "    assert sum((1, 2, 2)) == 6, \"Should be 6\"\n"
   ]
  },
  {
   "cell_type": "code",
   "execution_count": null,
   "id": "d6c76ede-0909-4de8-b86c-0a12de4233f4",
   "metadata": {},
   "outputs": [],
   "source": [
    "#Writing Your First Test\n",
    "\n",
    "#my_sum /init.py\n",
    "def sum(arg):\n",
    "    total = 0\n",
    "    for val in arg:\n",
    "        total += val\n",
    "    return total\n",
    "\n",
    "\n",
    "#test.py\n",
    "'''\n",
    "target = __import__(\"my_sum.py\")\n",
    "sum = target.sum\n",
    "'''\n",
    "import unittest\n",
    "\n",
    "from my_sum import sum\n",
    "\n",
    "\n",
    "class TestSum(unittest.TestCase):\n",
    "    def test_list_int(self):\n",
    "        \"\"\"\n",
    "        Test that it can sum a list of integers\n",
    "        \"\"\"\n",
    "        data = [1, 2, 3]\n",
    "        result = sum(data)\n",
    "        self.assertEqual(result, 6)\n",
    "\n",
    "if __name__ == '__main__':\n",
    "    unittest.main()"
   ]
  },
  {
   "cell_type": "code",
   "execution_count": null,
   "id": "22bb5fe1-1f81-43be-9698-9517150050b0",
   "metadata": {},
   "outputs": [],
   "source": [
    "#Executing Your First Test\n",
    "\n",
    "#Test Fail\n",
    "from fractions import Fraction\n",
    "\n",
    "import unittest\n",
    "\n",
    "from my_sum import sum\n",
    "\n",
    "\n",
    "class TestSum(unittest.TestCase):\n",
    "    def test_list_int(self):\n",
    "        \"\"\"\n",
    "        Test that it can sum a list of integers\n",
    "        \"\"\"\n",
    "        data = [1, 2, 3]\n",
    "        result = sum(data)\n",
    "        self.assertEqual(result, 6)\n",
    "\n",
    "    def test_list_fraction(self):\n",
    "        \"\"\"\n",
    "        Test that it can sum a list of fractions\n",
    "        \"\"\"\n",
    "        data = [Fraction(1, 4), Fraction(1, 4), Fraction(2, 5)]\n",
    "        result = sum(data)\n",
    "        self.assertEqual(result, 1)\n",
    "\n",
    "if __name__ == '__main__':\n",
    "    unittest.main()\n",
    "\n"
   ]
  },
  {
   "cell_type": "markdown",
   "id": "c45d00d9-4272-4f88-9e7e-0b0c5334cb22",
   "metadata": {},
   "source": [
    " What do the test results mean?\n",
    " - Within the first test it runs clearly and works, however, within the code given that will intentionally fail did, as expected, fail. "
   ]
  }
 ],
 "metadata": {
  "kernelspec": {
   "display_name": "Python 3 (ipykernel)",
   "language": "python",
   "name": "python3"
  },
  "language_info": {
   "codemirror_mode": {
    "name": "ipython",
    "version": 3
   },
   "file_extension": ".py",
   "mimetype": "text/x-python",
   "name": "python",
   "nbconvert_exporter": "python",
   "pygments_lexer": "ipython3",
   "version": "3.11.7"
  }
 },
 "nbformat": 4,
 "nbformat_minor": 5
}
