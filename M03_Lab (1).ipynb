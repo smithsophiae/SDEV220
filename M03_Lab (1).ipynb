{
 "cells": [
  {
   "cell_type": "markdown",
   "id": "67cf3557-4af0-47ca-a90b-a06aaf7265ac",
   "metadata": {},
   "source": [
    "\n",
    "M03 Lab - Case Study: Lists, Functions, and Classes\r\n",
    "M03_Lab.py\r\n",
    "Author: Sophia Smith\r\n",
    "Date: 4/6/2024"
   ]
  },
  {
   "cell_type": "code",
   "execution_count": 3,
   "id": "30c52166-a1cf-4036-9ff2-d438d795ee96",
   "metadata": {},
   "outputs": [
    {
     "name": "stdout",
     "output_type": "stream",
     "text": [
      "Vehicle Type:  Car\n",
      "Vehicle Type:  Boat\n",
      " \n",
      "Vehicle Type:  Car\n",
      "Year:  2004\n",
      "Make:  Jeep\n",
      "Model:  Wrangler\n",
      "Doors:  4\n",
      "Roof:  Hard\n",
      " \n",
      "Vehicle Type:  Boat\n",
      "Year:  2024\n",
      "Make:  Speed\n",
      "Model:  Zoom\n",
      "Doors:  2\n",
      "Roof:  None\n"
     ]
    }
   ],
   "source": [
    "#App Classes Part 1\n",
    "class Vehicle:\n",
    "    def __init__(self, vehicle_type):\n",
    "        self.vehicle_type = vehicle_type\n",
    "\n",
    "    def display_vehicle_type(self):\n",
    "        print(\"Vehicle Type: \",self.vehicle_type)\n",
    "\n",
    "Vehicle1 = Vehicle(\"Car\")\n",
    "Vehicle1.display_vehicle_type()\n",
    "\n",
    "\n",
    "Vehicle2 = Vehicle(\"Boat\")\n",
    "Vehicle2.display_vehicle_type()\n",
    "print(\" \")\n",
    "\n",
    "\n",
    "\n",
    "class Automobile(Vehicle):\n",
    "    def __init__(self, vehicle_type, year, make, model, doors, roof):\n",
    "        super().__init__(vehicle_type)\n",
    "        self.year = year\n",
    "        self.make = make\n",
    "        self.model = model\n",
    "        self.doors = doors\n",
    "        self.roof = roof\n",
    "\n",
    "    def display_details(self):\n",
    "        self.display_vehicle_type()\n",
    "        print(\"Year: \", self.year)\n",
    "        print(\"Make: \", self.make)\n",
    "        print(\"Model: \", self.model)\n",
    "        print(\"Doors: \", self.doors)\n",
    "        print(\"Roof: \", self.roof)\n",
    "\n",
    "    \n",
    "car1 = Automobile(\"Car\", 2004, \"Jeep\", \"Wrangler\", 4, \"Hard\")\n",
    "car1.display_details()\n",
    "print(\" \")\n",
    "\n",
    "boat1 = Automobile(\"Boat\", 2024, \"Speed\", \"Zoom\", 2, \"None\")\n",
    "boat1.display_details()\n",
    "\n"
   ]
  },
  {
   "cell_type": "code",
   "execution_count": 6,
   "id": "528ecf7c-03c7-4585-a859-416f08b6477b",
   "metadata": {},
   "outputs": [
    {
     "name": "stdin",
     "output_type": "stream",
     "text": [
      "Enter the car year:  2004\n",
      "Enter the car make:  Jeep\n",
      "Enter the car model:  Ford\n",
      "Enter the number of car doors:  3\n",
      "Enter the type of roof on the car:  Hard\n"
     ]
    },
    {
     "name": "stdout",
     "output_type": "stream",
     "text": [
      " \n",
      "~ Vehicle Information ~\n",
      "Vehicle Type:  Car\n",
      "Year:  2004\n",
      "Make:  Jeep\n",
      "Model:  Ford\n",
      "Doors:  3\n",
      "Roof:  Hard\n"
     ]
    }
   ],
   "source": [
    "#App Classes Part 2\n",
    "\n",
    "\n",
    "\n",
    "class Vehicle:\n",
    "    def __init__(self, vehicle_type):\n",
    "        self.vehicle_type = vehicle_type\n",
    "\n",
    "    def display_vehicle_type(self):\n",
    "        print(\"Vehicle Type: \",self.vehicle_type)\n",
    "\n",
    "\n",
    "class Automobile(Vehicle):\n",
    "    def __init__(self, vehicle_type, year, make, model, doors, roof):\n",
    "        super().__init__(vehicle_type)\n",
    "        self.year = year\n",
    "        self.make = make\n",
    "        self.model = model\n",
    "        self.doors = doors\n",
    "        self.roof = roof\n",
    "\n",
    "\n",
    "def user_car():\n",
    "    car_type = \"Car\"\n",
    "    year = input(\"Enter the car year: \")\n",
    "    make = input(\"Enter the car make: \")\n",
    "    model = input(\"Enter the car model: \")\n",
    "    doors = input(\"Enter the number of car doors: \")\n",
    "    roof = input(\"Enter the type of roof on the car: \")\n",
    "\n",
    "    car = Automobile(car_type, year, make, model, doors, roof)\n",
    "    return car\n",
    "\n",
    "def display_details(self):\n",
    "    self.display_vehicle_type()\n",
    "    print(\"Year: \", self.year)\n",
    "    print(\"Make: \", self.make)\n",
    "    print(\"Model: \", self.model)\n",
    "    print(\"Doors: \", self.doors)\n",
    "    print(\"Roof: \", self.roof)\n",
    "\n",
    "car = user_car()\n",
    "print(\" \")\n",
    "print(\"~ Vehicle Information ~\")\n",
    "display_details(car)\n",
    "\n"
   ]
  },
  {
   "cell_type": "code",
   "execution_count": null,
   "id": "5a33ddab-ed20-4943-a84c-51b265683786",
   "metadata": {},
   "outputs": [],
   "source": []
  }
 ],
 "metadata": {
  "kernelspec": {
   "display_name": "Python 3 (ipykernel)",
   "language": "python",
   "name": "python3"
  },
  "language_info": {
   "codemirror_mode": {
    "name": "ipython",
    "version": 3
   },
   "file_extension": ".py",
   "mimetype": "text/x-python",
   "name": "python",
   "nbconvert_exporter": "python",
   "pygments_lexer": "ipython3",
   "version": "3.11.7"
  }
 },
 "nbformat": 4,
 "nbformat_minor": 5
}
