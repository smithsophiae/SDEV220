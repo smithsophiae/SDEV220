{
 "cells": [
  {
   "cell_type": "markdown",
   "id": "6b1c186c-c254-4fdd-94ce-8a9709994cfb",
   "metadata": {},
   "source": [
    "M06 Programming Assignment - Concurrency in Python\n",
    "Sophia Smith\n",
    "4/24/2024"
   ]
  },
  {
   "cell_type": "code",
   "execution_count": null,
   "id": "6f2364c5-6398-4f50-a984-f1390837753c",
   "metadata": {},
   "outputs": [],
   "source": [
    "#13.1 Write the current date as a string to the text file today.txt.\n",
    "\n",
    "\n",
    "from datetime import date\n",
    "\n",
    "today = date.today()\n",
    "\n",
    "date_string = today.strftime(\"%Y-%m-%d\")\n",
    "\n",
    "with open (\"today.txt\", \"w\") as file:\n",
    "    file.write(date_string)\n",
    "\n",
    "print(\"The date is on the today.txt file...so go there!\")\n",
    "\n"
   ]
  },
  {
   "cell_type": "code",
   "execution_count": null,
   "id": "58b9a5a9-c05e-4ba3-bef6-24412a64c188",
   "metadata": {},
   "outputs": [],
   "source": [
    "#13.2 Read the text file today.txt into the string today_string.\n",
    "\n",
    "with open (\"today.txt\", \"r\") as file:\n",
    "    today_string = file.read()\n",
    "\n",
    "print(\"What the current date is...from the today.txt file: \", today_string)\n"
   ]
  },
  {
   "cell_type": "code",
   "execution_count": null,
   "id": "c322c70b-63cb-467c-9a96-57a59a2357da",
   "metadata": {},
   "outputs": [],
   "source": [
    "#13.3 Parse the date from today_string.\n",
    "\n",
    "from datetime import datetime\n",
    "\n",
    "dob_string = \"2004-10-10\"\n",
    "\n",
    "dob_date = datetime.strptime(dob_string, \"%Y-%m-%d\").date()\n",
    "\n",
    "print(\"This is my Birthday: \", dob_date)\n"
   ]
  },
  {
   "cell_type": "code",
   "execution_count": null,
   "id": "b2e12194-f6ad-48c6-994b-b10936fe2832",
   "metadata": {},
   "outputs": [],
   "source": [
    "#15.1 Use multiprocessing to create three separate processes. Make each one wait a random number of seconds between zero and one, print the \n",
    "#current time, and then exit.\n",
    "\n",
    "\n",
    "import multiprocessing\n",
    "import time\n",
    "import random\n",
    "from datetime import datetime\n",
    "\n",
    "def print_curr_time():\n",
    "    s_time = random.random()\n",
    "    time.sleep(s_time)\n",
    "\n",
    "    curr_time = datetime.now().strftime(\"%Y-%m-%d %H-%M-%S\")\n",
    "    print(\"This is the current date and time: \", curr_time)\n",
    "\n",
    "if __name__ == \"__main__\":\n",
    "    process = []\n",
    "    for _ in range(3):\n",
    "        p = multiprocessing.Process(target=print_curr_time)\n",
    "        process.append(p)\n",
    "        p.start()\n",
    "\n",
    "    for p in process:\n",
    "        p.join()\n",
    "\n",
    "    print(\"Three processes done!!\")\n"
   ]
  }
 ],
 "metadata": {
  "kernelspec": {
   "display_name": "Python 3 (ipykernel)",
   "language": "python",
   "name": "python3"
  },
  "language_info": {
   "codemirror_mode": {
    "name": "ipython",
    "version": 3
   },
   "file_extension": ".py",
   "mimetype": "text/x-python",
   "name": "python",
   "nbconvert_exporter": "python",
   "pygments_lexer": "ipython3",
   "version": "3.11.7"
  }
 },
 "nbformat": 4,
 "nbformat_minor": 5
}
