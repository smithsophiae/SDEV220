{
 "cells": [
  {
   "cell_type": "code",
   "execution_count": null,
   "id": "4d231554-fe7f-4655-a368-0df83e0f89ed",
   "metadata": {},
   "outputs": [],
   "source": [
    "M04 Programming Assignment - Modules and Databases"
   ]
  },
  {
   "cell_type": "code",
   "execution_count": null,
   "id": "d5bd4a3f-8842-4084-9a50-e08073cc4fb8",
   "metadata": {},
   "outputs": [],
   "source": [
    "#11.1 -  Create a file called zoo.py. In it, define a function called hours() that prints the string 'Open 9-5 daily'. \n",
    "#Then, use the interactive interpreter to import the zoo module and call its hours() function.\n",
    "\n",
    "#zoo.py\n",
    "def hours():\n",
    "    print(\"Open 9-5 daily\")\n",
    "\n",
    "\n",
    "#interater \n",
    "import zoo\n",
    "zoo.hours()\n",
    "\n"
   ]
  },
  {
   "cell_type": "code",
   "execution_count": null,
   "id": "85d532c7-a7c8-4402-ab83-faa6d25d1a0c",
   "metadata": {},
   "outputs": [],
   "source": [
    "#11.2 - In the interactive interpreter, import the zoo module as menagerie and call its hours() function.\n",
    "\n",
    "#zoo.py\n",
    "def hours():\n",
    "    print(\"Open 9-5 daily\")\n",
    "\n",
    "\n",
    "\n",
    "import zoo as menagerie\n",
    "menagerie.hour()"
   ]
  },
  {
   "cell_type": "code",
   "execution_count": 1,
   "id": "55d4b3ef-b7a9-4fb0-b5dc-c22a74e1b844",
   "metadata": {},
   "outputs": [
    {
     "ename": "KeyError",
     "evalue": "'book'",
     "output_type": "error",
     "traceback": [
      "\u001b[1;31m---------------------------------------------------------------------------\u001b[0m",
      "\u001b[1;31mKeyError\u001b[0m                                  Traceback (most recent call last)",
      "Cell \u001b[1;32mIn[1], line 11\u001b[0m\n\u001b[0;32m      8\u001b[0m metadata \u001b[38;5;241m=\u001b[39m MetaData()\n\u001b[0;32m      9\u001b[0m metadata\u001b[38;5;241m.\u001b[39mreflect(bind\u001b[38;5;241m=\u001b[39mengine)\n\u001b[1;32m---> 11\u001b[0m book_table \u001b[38;5;241m=\u001b[39m metadata\u001b[38;5;241m.\u001b[39mtables[\u001b[38;5;124m'\u001b[39m\u001b[38;5;124mbook\u001b[39m\u001b[38;5;124m'\u001b[39m]\n\u001b[0;32m     13\u001b[0m \u001b[38;5;28;01mwith\u001b[39;00m engine\u001b[38;5;241m.\u001b[39mconnect() \u001b[38;5;28;01mas\u001b[39;00m connection:\n\u001b[0;32m     14\u001b[0m     query \u001b[38;5;241m=\u001b[39m select([book_table\u001b[38;5;241m.\u001b[39mc\u001b[38;5;241m.\u001b[39mtitle])\u001b[38;5;241m.\u001b[39morder_by(book_table\u001b[38;5;241m.\u001b[39mc\u001b[38;5;241m.\u001b[39mtitle)\n",
      "\u001b[1;31mKeyError\u001b[0m: 'book'"
     ]
    }
   ],
   "source": [
    "#16.8 - Use the sqlalchemy module to connect to the sqlite3 database books.db that you just made in exercise 16.4.\n",
    "#As in 16.6, select and print the title column from the book table in alphabetical order.\n",
    "\n",
    "from sqlalchemy import create_engine, select, Table, MetaData\n",
    "\n",
    "engine = create_engine('sqlite:///books.db')\n",
    "\n",
    "metadata = MetaData()\n",
    "metadata.reflect(bind=engine)\n",
    "\n",
    "book_table = metadata.tables['book']\n",
    "\n",
    "with engine.connect() as connection:\n",
    "    query = select([book_table.c.title]).order_by(book_table.c.title)\n",
    "\n",
    "    result = connection.execute(query)\n",
    "\n",
    "    for row in result:\n",
    "        print(row[0])\n",
    "\n",
    "\n",
    "#I struggled doing this programming assignment - I tried using other resources but \n",
    "#am still unsure on this topic"
   ]
  },
  {
   "cell_type": "code",
   "execution_count": null,
   "id": "57016c3f-565c-49bf-9301-0bc2228394b2",
   "metadata": {},
   "outputs": [],
   "source": []
  }
 ],
 "metadata": {
  "kernelspec": {
   "display_name": "Python 3 (ipykernel)",
   "language": "python",
   "name": "python3"
  },
  "language_info": {
   "codemirror_mode": {
    "name": "ipython",
    "version": 3
   },
   "file_extension": ".py",
   "mimetype": "text/x-python",
   "name": "python",
   "nbconvert_exporter": "python",
   "pygments_lexer": "ipython3",
   "version": "3.11.7"
  }
 },
 "nbformat": 4,
 "nbformat_minor": 5
}
