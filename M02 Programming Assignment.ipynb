{
 "cells": [
  {
   "cell_type": "markdown",
   "id": "3c775e28-1e99-4ee8-9757-9e0e0aaec6e9",
   "metadata": {},
   "source": [
    "M02 Programming Assignment - Loops and Conditionals\r",
    "Sophia Smith\n",
    "3/27/2024\n"
   ]
  },
  {
   "cell_type": "code",
   "execution_count": null,
   "id": "0b4b6ea5-9618-4db9-9f16-174dce072674",
   "metadata": {},
   "outputs": [],
   "source": [
    "#4.1 - Choose a number between 1 and 10 and assign it to the variable secret. Then, select another number between 1 and 10 and assign it to the\n",
    "#variable guess. Next, write the conditional tests (if, else, and elif) to print the string 'too low' if guess is less than secret, \n",
    "#'too high' if greater than secret, and 'just right' if equal to secret.\n",
    "\n",
    "import random as r \n",
    "\n",
    "userGuess = ''\n",
    "secret = (r.randint(1,10))\n",
    "\n",
    "\n",
    "userGuess = int(input(\"Enter a guess for the secret number from 1 - 10: \"))\n",
    "\n",
    "while True:\n",
    "    \n",
    "    if secret > userGuess:\n",
    "        print(\"Too low, please try again... \")\n",
    "    elif secret < userGuess:\n",
    "        print(\"Too high, please try again... \")\n",
    "    elif secret == userGuess:\n",
    "        print(\"Just Right!\")\n",
    "        break\n",
    "    else:\n",
    "        print(\"ERROR\")\n",
    "        \n",
    "    userGuess = int(input(\"Enter another guess or QUIT to end program: \"))\n",
    "    if userGuess == \"QUIT\":\n",
    "        break\n",
    "\n",
    "print('~' * 10)\n",
    "print(\"Thanks for Playing!\")\n"
   ]
  },
  {
   "cell_type": "code",
   "execution_count": null,
   "id": "cd90d3b5-9e82-4eb9-99af-5f124f36ade6",
   "metadata": {},
   "outputs": [],
   "source": [
    "#4.2 - Assign True or False to the variables small and green. Write some if/else statements to print which of these matches those choices:\n",
    "#cherry, pea, watermelon, pumpkin.\n",
    "\n",
    "small = False\n",
    "green = True\n",
    "\n",
    "if small and green:\n",
    "    print(\"Pea!\")\n",
    "elif small and not green:\n",
    "    print(\"Cherry!\")\n",
    "elif not small and green:\n",
    "    print(\"Watermelon!\")\n",
    "else:\n",
    "    print(\"Pumpkin!\")"
   ]
  },
  {
   "cell_type": "code",
   "execution_count": null,
   "id": "6fc5a07b-5dbf-4d10-91ba-b68bc6a59bb0",
   "metadata": {},
   "outputs": [],
   "source": [
    "#6.1 - Use a for loop to print the values of the list [3, 2, 1, 0].\n",
    "\n",
    "numberList = [3,2,1,0]\n",
    "for num in numberList:\n",
    "    if num == 'x':\n",
    "        print(\"Error\")\n",
    "        break\n",
    "    print(num)\n",
    "else:\n",
    "    print(\"Number values in List\")"
   ]
  },
  {
   "cell_type": "code",
   "execution_count": null,
   "id": "e203448b-6bbc-4fd7-b470-47e5e0f8614e",
   "metadata": {},
   "outputs": [],
   "source": [
    "#6.2 - Assign the value 7 to the variable guess_me, and the value 1 to the variable number. Write a while loop that compares number with guess_me.\n",
    "#Print 'too low' if number is less than guess me. If number equals guess_me, print 'found it!' and then exit the loop. If number is greater\n",
    "#than guess_me, print 'oops' and then exit the loop. Increment number at the end of the loop.\n",
    "\n",
    "guess_me = 7\n",
    "number = 1\n",
    "\n",
    "while True:\n",
    "    if number < guess_me:\n",
    "        print(\"Too Low!\")\n",
    "        number += 1\n",
    "    elif number == guess_me:\n",
    "        print(\"Found It!\")\n",
    "        break\n",
    "    else:\n",
    "        print(\"Oops\")\n",
    "        break\n",
    "\n",
    "\n",
    "print(\"~\" * 10)\n",
    "print(\"Thanks for Playing\")"
   ]
  },
  {
   "cell_type": "code",
   "execution_count": null,
   "id": "dd8ddf94-af57-4827-8a88-e3f9f556072d",
   "metadata": {},
   "outputs": [],
   "source": [
    "#6.3 - Assign the value 5 to the variable guess_me. Use a for loop to iterate a variable called number over range(10). \n",
    "#If number is less than guess_me, print 'too low'. If it equals guess_me, print found it! and then break out of the for loop.\n",
    "#If number is greater than guess_me, print 'oops' and then exit the loop.\n",
    "\n",
    "guess_me = 5\n",
    "num = [10]\n",
    "\n",
    "for num in range(1,10):\n",
    "\n",
    "    if num < guess_me:\n",
    "        print(\"Too Low!\")\n",
    "        num += 1\n",
    "\n",
    "    elif num == guess_me:\n",
    "        print(\"Found It!\")\n",
    "        break\n",
    "\n",
    "    else:\n",
    "        print(\"Oops!\")\n",
    "        break\n",
    "\n",
    "print(\"~\" * 10)\n",
    "print(\"Thanks for Playing\")\n"
   ]
  }
 ],
 "metadata": {
  "kernelspec": {
   "display_name": "Python 3 (ipykernel)",
   "language": "python",
   "name": "python3"
  },
  "language_info": {
   "codemirror_mode": {
    "name": "ipython",
    "version": 3
   },
   "file_extension": ".py",
   "mimetype": "text/x-python",
   "name": "python",
   "nbconvert_exporter": "python",
   "pygments_lexer": "ipython3",
   "version": "3.11.7"
  }
 },
 "nbformat": 4,
 "nbformat_minor": 5
}
