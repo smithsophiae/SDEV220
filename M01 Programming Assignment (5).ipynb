{
 "cells": [
  {
   "cell_type": "markdown",
   "id": "4745c8f9-f70c-4958-9c3c-6c5e990130ba",
   "metadata": {},
   "source": [
    "Chapter 3: Things to Do ~    \n",
    "Sophia Smith ~     \n",
    "3/20/2024"
   ]
  },
  {
   "cell_type": "code",
   "execution_count": 1,
   "id": "ddfb409b-f899-48e9-833c-ce7fadbe470e",
   "metadata": {},
   "outputs": [
    {
     "name": "stdout",
     "output_type": "stream",
     "text": [
      "3600\n"
     ]
    }
   ],
   "source": [
    "#3.1 How many seconds are in an hour? Use the interactive interpreter as a calculator and multiply the number of seconds in a minute (60) by\n",
    "#the number of minutes in an hour (also 60).\n",
    "num_hour = 60\n",
    "num_min = 60\n",
    "print (num_hour * num_min)"
   ]
  },
  {
   "cell_type": "code",
   "execution_count": 3,
   "id": "93deb008-ba00-4632-8188-281cc53444a6",
   "metadata": {},
   "outputs": [
    {
     "name": "stdout",
     "output_type": "stream",
     "text": [
      "3600\n"
     ]
    }
   ],
   "source": [
    "#3.2 Assign the result from the previous task (seconds in an hour) to a variable called seconds_per_hour.\n",
    "seconds_per_hour = num_hour * num_min \n",
    "print(seconds_per_hour)"
   ]
  },
  {
   "cell_type": "code",
   "execution_count": 4,
   "id": "8c699f0f-d068-4b75-98e8-ff59bd2a028f",
   "metadata": {},
   "outputs": [
    {
     "name": "stdout",
     "output_type": "stream",
     "text": [
      "86400\n"
     ]
    }
   ],
   "source": [
    "#3.3 How many seconds are in a day? Use your seconds_per_hour variable.\n",
    "hours_in_day = 24\n",
    "print (seconds_per_hour * hours_in_day)"
   ]
  },
  {
   "cell_type": "code",
   "execution_count": 5,
   "id": "3bd1b021-fa62-477e-9890-88eb66ae5a31",
   "metadata": {},
   "outputs": [
    {
     "name": "stdout",
     "output_type": "stream",
     "text": [
      "86400\n"
     ]
    }
   ],
   "source": [
    "#3.4 Calculate seconds per day again, but this time save the result in a variable called seconds_per_day.\n",
    "seconds_per_day = seconds_per_hour * hours_in_day\n",
    "print(seconds_per_day)"
   ]
  },
  {
   "cell_type": "code",
   "execution_count": 6,
   "id": "db8eda4b-f980-4b6b-b535-b5cda9dc376c",
   "metadata": {},
   "outputs": [
    {
     "name": "stdout",
     "output_type": "stream",
     "text": [
      "24.0\n"
     ]
    }
   ],
   "source": [
    "#3.5 Divide seconds_per_day by seconds_per_hour. Use floating-point (/) division.\n",
    "print(seconds_per_day / seconds_per_hour)"
   ]
  },
  {
   "cell_type": "code",
   "execution_count": 8,
   "id": "63e08ebb-447b-48ea-93f4-6d1bd1e1f821",
   "metadata": {},
   "outputs": [
    {
     "name": "stdout",
     "output_type": "stream",
     "text": [
      "24\n"
     ]
    }
   ],
   "source": [
    "#3.6 Divide seconds_per_day by seconds_per_hour, using integer (//) division. Did this number agree \n",
    "#with the floating-point value from the previous question, aside from the final .0?\n",
    "print(seconds_per_day // seconds_per_hour)\n",
    "#Yes, the numbers matched"
   ]
  }
 ],
 "metadata": {
  "kernelspec": {
   "display_name": "Python 3 (ipykernel)",
   "language": "python",
   "name": "python3"
  },
  "language_info": {
   "codemirror_mode": {
    "name": "ipython",
    "version": 3
   },
   "file_extension": ".py",
   "mimetype": "text/x-python",
   "name": "python",
   "nbconvert_exporter": "python",
   "pygments_lexer": "ipython3",
   "version": "3.11.7"
  }
 },
 "nbformat": 4,
 "nbformat_minor": 5
}
