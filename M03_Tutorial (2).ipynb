{
 "cells": [
  {
   "cell_type": "markdown",
   "id": "b269985c-af25-43bb-9a6b-21c147ac5b69",
   "metadata": {},
   "source": [
    "M03 Tutorial - Functional vs OOP Programming"
   ]
  },
  {
   "cell_type": "code",
   "execution_count": 16,
   "id": "92c88c5a-cd10-4c9d-b650-f7fd7fcc5e92",
   "metadata": {},
   "outputs": [],
   "source": [
    "class Solution:\n",
    "    def sort012(self,arr,n):\n",
    "        \n",
    "        low=0\n",
    "        high=n-1\n",
    "        mid=0\n",
    "        \n",
    "        while mid<=high:\n",
    "            if arr[mid]==0:\n",
    "                arr[mid] , arr[low] = arr[low] , arr[mid]\n",
    "                mid+=1\n",
    "                low+=1\n",
    "                \n",
    "            elif arr[mid]==1:\n",
    "                mid+=1"
   ]
  },
  {
   "cell_type": "markdown",
   "id": "70557acd-f56f-4c41-bf80-2dbe019c04ec",
   "metadata": {},
   "source": [
    "\n",
    "class Solution:\t\n",
    "\tdef binarysearch(self, arr, n, k):\n",
    "\t\tif r >= l:\n",
    "            mid = l + (r - l) // 2\n",
    "            if arr[mid] == x:\n",
    "                return mid\n",
    "            elif arr[mid] > x:\n",
    "                return binarySearch(arr, l, mid-1, x)\n",
    "            else:\n",
    "                return binarySearch(arr, mid + 1, r, x)\n",
    "        else:\n",
    "            return -1\n",
    "\n",
    "arr = [2, 3, 4, 10, 40]\n",
    "x = 10\n",
    "\n",
    "result = binarySearch(arr, 0, len(arr)-1, x)\n",
    "\n",
    "if result != -1:\n",
    "    print(\"Element is present at index % d\" % result)\n",
    "else:\n",
    "    print(\"Element is not present in array\")"
   ]
  }
 ],
 "metadata": {
  "kernelspec": {
   "display_name": "Python 3 (ipykernel)",
   "language": "python",
   "name": "python3"
  },
  "language_info": {
   "codemirror_mode": {
    "name": "ipython",
    "version": 3
   },
   "file_extension": ".py",
   "mimetype": "text/x-python",
   "name": "python",
   "nbconvert_exporter": "python",
   "pygments_lexer": "ipython3",
   "version": "3.11.7"
  }
 },
 "nbformat": 4,
 "nbformat_minor": 5
}
